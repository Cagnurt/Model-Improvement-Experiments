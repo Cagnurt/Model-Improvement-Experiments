{
 "cells": [
  {
   "cell_type": "code",
   "execution_count": 1,
   "metadata": {},
   "outputs": [],
   "source": [
    "import torch, torchvision\n",
    "from torch.utils.data import DataLoader\n",
    "import matplotlib.pyplot as plt\n",
    "import numpy as np"
   ]
  },
  {
   "cell_type": "code",
   "execution_count": 2,
   "metadata": {},
   "outputs": [
    {
     "name": "stdout",
     "output_type": "stream",
     "text": [
      "Downloading http://yann.lecun.com/exdb/mnist/train-images-idx3-ubyte.gz\n",
      "Downloading http://yann.lecun.com/exdb/mnist/train-images-idx3-ubyte.gz to ./MNIST/raw/train-images-idx3-ubyte.gz\n"
     ]
    },
    {
     "data": {
      "application/vnd.jupyter.widget-view+json": {
       "model_id": "9bb9680a8db24f54bcd2cd15e1d7e76b",
       "version_major": 2,
       "version_minor": 0
      },
      "text/plain": [
       "  0%|          | 0/9912422 [00:00<?, ?it/s]"
      ]
     },
     "metadata": {},
     "output_type": "display_data"
    },
    {
     "name": "stdout",
     "output_type": "stream",
     "text": [
      "Extracting ./MNIST/raw/train-images-idx3-ubyte.gz to ./MNIST/raw\n",
      "\n",
      "Downloading http://yann.lecun.com/exdb/mnist/train-labels-idx1-ubyte.gz\n",
      "Downloading http://yann.lecun.com/exdb/mnist/train-labels-idx1-ubyte.gz to ./MNIST/raw/train-labels-idx1-ubyte.gz\n"
     ]
    },
    {
     "data": {
      "application/vnd.jupyter.widget-view+json": {
       "model_id": "7d2a75559c374e59a0f91b04541f28b7",
       "version_major": 2,
       "version_minor": 0
      },
      "text/plain": [
       "  0%|          | 0/28881 [00:00<?, ?it/s]"
      ]
     },
     "metadata": {},
     "output_type": "display_data"
    },
    {
     "name": "stdout",
     "output_type": "stream",
     "text": [
      "Extracting ./MNIST/raw/train-labels-idx1-ubyte.gz to ./MNIST/raw\n",
      "\n",
      "Downloading http://yann.lecun.com/exdb/mnist/t10k-images-idx3-ubyte.gz\n",
      "Downloading http://yann.lecun.com/exdb/mnist/t10k-images-idx3-ubyte.gz to ./MNIST/raw/t10k-images-idx3-ubyte.gz\n"
     ]
    },
    {
     "data": {
      "application/vnd.jupyter.widget-view+json": {
       "model_id": "e4e59135989243c0b5a56d76325446e7",
       "version_major": 2,
       "version_minor": 0
      },
      "text/plain": [
       "  0%|          | 0/1648877 [00:00<?, ?it/s]"
      ]
     },
     "metadata": {},
     "output_type": "display_data"
    },
    {
     "name": "stdout",
     "output_type": "stream",
     "text": [
      "Extracting ./MNIST/raw/t10k-images-idx3-ubyte.gz to ./MNIST/raw\n",
      "\n",
      "Downloading http://yann.lecun.com/exdb/mnist/t10k-labels-idx1-ubyte.gz\n",
      "Downloading http://yann.lecun.com/exdb/mnist/t10k-labels-idx1-ubyte.gz to ./MNIST/raw/t10k-labels-idx1-ubyte.gz\n"
     ]
    },
    {
     "data": {
      "application/vnd.jupyter.widget-view+json": {
       "model_id": "1284823dc98a4ebcbfcd2a779c785a20",
       "version_major": 2,
       "version_minor": 0
      },
      "text/plain": [
       "  0%|          | 0/4542 [00:00<?, ?it/s]"
      ]
     },
     "metadata": {},
     "output_type": "display_data"
    },
    {
     "name": "stdout",
     "output_type": "stream",
     "text": [
      "Extracting ./MNIST/raw/t10k-labels-idx1-ubyte.gz to ./MNIST/raw\n",
      "\n"
     ]
    },
    {
     "data": {
      "image/png": "[encoded data removed]",
      "text/plain": [
       "<Figure size 432x288 with 1 Axes>"
      ]
     },
     "metadata": {
      "needs_background": "light"
     },
     "output_type": "display_data"
    },
    {
     "data": {
      "image/png": "[encoded data removed]",
      "text/plain": [
       "<Figure size 432x288 with 1 Axes>"
      ]
     },
     "metadata": {
      "needs_background": "light"
     },
     "output_type": "display_data"
    },
    {
     "data": {
      "image/png": "[encoded data removed]",
      "text/plain": [
       "<Figure size 432x288 with 1 Axes>"
      ]
     },
     "metadata": {
      "needs_background": "light"
     },
     "output_type": "display_data"
    },
    {
     "data": {
      "image/png": "[encoded data removed]",
      "text/plain": [
       "<Figure size 432x288 with 1 Axes>"
      ]
     },
     "metadata": {
      "needs_background": "light"
     },
     "output_type": "display_data"
    },
    {
     "data": {
      "image/png": "[encoded data removed]",
      "text/plain": [
       "<Figure size 432x288 with 1 Axes>"
      ]
     },
     "metadata": {
      "needs_background": "light"
     },
     "output_type": "display_data"
    }
   ],
   "source": [
    "#The MNIST dataset is about 12 MB and will be downloaded automatically if it is not located in the given path.\n",
    "mnist = torchvision.datasets.MNIST('./', train=True, download=True, transform=torchvision.transforms.ToTensor())\n",
    "\n",
    "#Helper for visualization\n",
    "def torch_imshow(img):\n",
    "    img = img[0]\n",
    "    plt.imshow(img.cpu().numpy())\n",
    "    plt.show()\n",
    "\n",
    "#Visualize first 5 samples\n",
    "for n in range(5):\n",
    "    sample = mnist[n]\n",
    "    img, label = sample\n",
    "    plt.figure()\n",
    "    plt.title(f'This is a {label}')\n",
    "    torch_imshow(img)\n"
   ]
  },
  {
   "cell_type": "code",
   "execution_count": 3,
   "metadata": {},
   "outputs": [],
   "source": [
    "## Create a dataloader that bundles the dataset with batch size of 16\n",
    "train_dataloader = DataLoader(mnist, batch_size= 16, shuffle = False)"
   ]
  },
  {
   "cell_type": "code",
   "execution_count": 4,
   "metadata": {},
   "outputs": [
    {
     "name": "stdout",
     "output_type": "stream",
     "text": [
      "Dummy input shape: torch.Size([16, 784])\n",
      "Dummy output shape: torch.Size([16, 10])\n"
     ]
    }
   ],
   "source": [
    "## Create a 1 layer fully connected network without any activation\n",
    "\n",
    "class OneLayerNetwork(torch.nn.Module):\n",
    "    def __init__(self):\n",
    "        super().__init__()\n",
    "        self.layer1 = torch.nn.Linear(784, 10) \n",
    "        \n",
    "    def forward(self, x):\n",
    "        x = self.layer1(x)\n",
    "        return x\n",
    "        \n",
    "one_layer_net = OneLayerNetwork().cuda()\n",
    "\n",
    "dummy_input = torch.randn(16, 784, device='cuda') #You can create tensors in GPU directly instead of .cuda()\n",
    "dummy_output = one_layer_net(dummy_input)\n",
    "\n",
    "print(f'Dummy input shape: {dummy_input.shape}')\n",
    "print(f'Dummy output shape: {dummy_output.shape}')"
   ]
  },
  {
   "cell_type": "code",
   "execution_count": 5,
   "metadata": {},
   "outputs": [
    {
     "name": "stdout",
     "output_type": "stream",
     "text": [
      "SGD (\n",
      "Parameter Group 0\n",
      "    dampening: 0\n",
      "    lr: 0.001\n",
      "    momentum: 0\n",
      "    nesterov: False\n",
      "    weight_decay: 0\n",
      ")\n"
     ]
    }
   ],
   "source": [
    "# Define an SGD optimizer with learning rate 0.001 to optimize the parameters of \"one_layer_net\"\n",
    "sgd_optimizer = torch.optim.SGD(one_layer_net.parameters(), lr=0.001)\n",
    "print(sgd_optimizer)"
   ]
  },
  {
   "cell_type": "code",
   "execution_count": 6,
   "metadata": {},
   "outputs": [],
   "source": [
    "## Decide which loss function to use from torch.nn module and define it below\n",
    "loss_fn = torch.nn.CrossEntropyLoss()"
   ]
  },
  {
   "cell_type": "code",
   "execution_count": 7,
   "metadata": {},
   "outputs": [],
   "source": [
    "## Warning: If you run this cell multiple times, it will continue training\n",
    "## after the first run so the plots may not be correct. Make sure you are not\n",
    "## running this cell twice before restarting kernel.\n",
    "loss_list = [] #To plot loss graph later\n",
    "\n",
    "for train_images, train_labels in train_dataloader:\n",
    "    ## Move data to GPU\n",
    "    train_images, train_labels = train_images.cuda(), train_labels.cuda()\n",
    "    #print(\"1\")\n",
    "    ## Flatten the images from [BATCH, 1, 28, 28] to [BATCH, 784]\n",
    "    flat_images = train_images.reshape(-1, 784)\n",
    "    #print(flat_images.size())\n",
    "    ## Run the network with flattened images batch and obtain the class scores\n",
    "    class_scores = one_layer_net(flat_images)\n",
    "    #print(class_scores.size())\n",
    "    #print(train_labels.size())\n",
    "    ## Calculate loss using the loss_fn defined above\n",
    "    loss = loss_fn(class_scores, train_labels)\n",
    "    loss_list.append(loss)    \n",
    "    ## Take an optimization step (don't forget to clear the gradients first)\n",
    "    # 1-Clear gradients\n",
    "    sgd_optimizer.zero_grad()\n",
    "    # 2-Compute gradients using loss\n",
    "    loss.backward()\n",
    "    # 3-Take a gradient descent step using optimizer\n",
    "    sgd_optimizer.step() \n",
    "    \n",
    "    \n",
    "      \n",
    "    "
   ]
  },
  {
   "cell_type": "code",
   "execution_count": 8,
   "metadata": {},
   "outputs": [
    {
     "data": {
      "image/png": "[encoded data removed]",
      "text/plain": [
       "<Figure size 432x288 with 1 Axes>"
      ]
     },
     "metadata": {
      "needs_background": "light"
     },
     "output_type": "display_data"
    }
   ],
   "source": [
    "# Helper for plotting the loss graph smoothly. \n",
    "def plot_loss_graph(loss_list):\n",
    "    filter_size = 10\n",
    "    moving_average_filter = [1/filter_size] * filter_size\n",
    "    smoothed_loss_list = np.convolve(loss_list, moving_average_filter, 'valid') \n",
    "    plt.figure()\n",
    "    plt.xlabel('Iterations')\n",
    "    plt.ylabel('Loss')\n",
    "    plt.plot(smoothed_loss_list)\n",
    "    \n",
    "plot_loss_graph(loss_list)"
   ]
  },
  {
   "cell_type": "code",
   "execution_count": 9,
   "metadata": {},
   "outputs": [
    {
     "name": "stdout",
     "output_type": "stream",
     "text": [
      "Accuracy = 84.24000000000001%\n"
     ]
    }
   ],
   "source": [
    "## Test your network's accuracy on the test set\n",
    "\n",
    "# Prepare test set\n",
    "mnist_test = torchvision.datasets.MNIST('./', train=False, download=True, transform=torchvision.transforms.ToTensor())\n",
    "test_dataloader = DataLoader(mnist_test, batch_size=32, shuffle=False)\n",
    "\n",
    "\n",
    "true_predictions = 0\n",
    "false_predictions = 0\n",
    "for test_images, test_labels in test_dataloader:\n",
    "    ## Move batch to GPU\n",
    "    test_images, test_labels = test_images.cuda(), test_labels.cuda()\n",
    "    \n",
    "    ## Flatten the images from [BATCH, 1, 28, 28] to [BATCH, 784]\n",
    "    flat_images = test_images.reshape(-1, 784)\n",
    "    \n",
    "    ## Run the network with flattened images batch and obtain the class scores\n",
    "    class_scores = one_layer_net(flat_images)\n",
    "    \n",
    "    ## Extract predictions from class_scores using torch.argmax() method\n",
    "    class_predictions = torch.argmax(class_scores,1)\n",
    "    \n",
    "    ## Find the number of true predictions in the batch using test_labels and class_predictions\n",
    "    true_predictions_batch  = torch.sum(class_predictions == test_labels)\n",
    "    false_predictions_batch = torch.sum(class_predictions != test_labels)\n",
    "    \n",
    "    true_predictions  += true_predictions_batch.item()\n",
    "    false_predictions += false_predictions_batch.item()\n",
    "\n",
    "accuracy = true_predictions / (true_predictions + false_predictions)\n",
    "print(f'Accuracy = {accuracy*100}%')     "
   ]
  },
  {
   "cell_type": "code",
   "execution_count": null,
   "metadata": {},
   "outputs": [],
   "source": []
  }
 ],
 "metadata": {
  "kernelspec": {
   "display_name": "Python [conda env:dl] *",
   "language": "python",
   "name": "conda-env-dl-py"
  },
  "language_info": {
   "codemirror_mode": {
    "name": "ipython",
    "version": 3
   },
   "file_extension": ".py",
   "mimetype": "text/x-python",
   "name": "python",
   "nbconvert_exporter": "python",
   "pygments_lexer": "ipython3",
   "version": "3.9.12"
  }
 },
 "nbformat": 4,
 "nbformat_minor": 4
}
